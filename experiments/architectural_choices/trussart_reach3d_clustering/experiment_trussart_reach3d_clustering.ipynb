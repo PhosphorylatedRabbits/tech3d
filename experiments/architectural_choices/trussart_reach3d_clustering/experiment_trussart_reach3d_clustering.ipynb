{
 "cells": [
  {
   "cell_type": "code",
   "execution_count": 1,
   "id": "2937ff6c",
   "metadata": {
    "ExecuteTime": {
     "end_time": "2021-09-13T11:22:04.725775Z",
     "start_time": "2021-09-13T11:22:02.573983Z"
    }
   },
   "outputs": [],
   "source": [
    "# File processing\n",
    "import os\n",
    "\n",
    "# Data processing\n",
    "import numpy as np\n",
    "from sklearn.preprocessing import MinMaxScaler\n",
    "\n",
    "# Machine Learning\n",
    "import random\n",
    "import torch\n",
    "import torch.nn.functional as F\n",
    "from torch import linalg as LAtorch\n",
    "from numpy import linalg as LAnumpy\n",
    "\n",
    "# Plotting\n",
    "import matplotlib.pyplot as plt\n",
    "import plotly.graph_objects as go\n",
    "from plotly.subplots import make_subplots\n",
    "\n",
    "# Set device type\n",
    "device = torch.device('cpu')"
   ]
  },
  {
   "cell_type": "markdown",
   "id": "5fac13c5",
   "metadata": {},
   "source": [
    "# Constants"
   ]
  },
  {
   "cell_type": "code",
   "execution_count": 2,
   "id": "465431e5",
   "metadata": {
    "ExecuteTime": {
     "end_time": "2021-09-13T11:22:04.730424Z",
     "start_time": "2021-09-13T11:22:04.727510Z"
    }
   },
   "outputs": [],
   "source": [
    "# Models constants\n",
    "SEED = 0\n",
    "BATCH_SIZE = 1\n",
    "EMBEDDING_SIZE = 3 # Euclidean 3D space\n",
    "MODELS_ROOT = '../../../t_reach_3d_1.0/t_reach_3d_1.0_dev/models/'\n",
    "\n",
    "# Trussart test set constants\n",
    "NB_BINS = 202\n",
    "TRUSSART_HIC_PATH = '../../data/trussart/hic_matrices/150_TADlike_alpha_150_set0.mat'\n",
    "TRUSSART_STRUCTURES_PATH = '../../data/trussart/structure_matrices/'\n",
    "NB_TRUSSART_STRUCTURES = 100\n",
    "\n",
    "# REACH3D\n",
    "REACH3D_STRUCTURE_PATH = '../../../previous_works/reach3d/reach3d_trussart_output_structure_150.txt'\n",
    "\n",
    "# GEM \n",
    "GEM_STRUCTURE_PATH = '../../../previous_works/gem/data/trussart/trussart_structure_formatted/trussart_structure_formatted_150.txt'\n",
    "\n",
    "# miniMDS\n",
    "MINIMDS_STRUCTURE_PATH = '../../../previous_works/minimds/data/trussart/trussart_structure_formatted/trussart_structure_formatted_150.txt'"
   ]
  },
  {
   "cell_type": "markdown",
   "id": "bdcc7277",
   "metadata": {},
   "source": [
    "# Seeds"
   ]
  },
  {
   "cell_type": "code",
   "execution_count": 3,
   "id": "26605809",
   "metadata": {
    "ExecuteTime": {
     "end_time": "2021-09-13T11:22:04.739231Z",
     "start_time": "2021-09-13T11:22:04.733843Z"
    }
   },
   "outputs": [],
   "source": [
    "torch.manual_seed(SEED)\n",
    "random.seed(SEED)\n",
    "np.random.seed(SEED)"
   ]
  },
  {
   "cell_type": "markdown",
   "id": "c771473b",
   "metadata": {},
   "source": [
    "# Structure analysis functions"
   ]
  },
  {
   "cell_type": "markdown",
   "id": "74381471",
   "metadata": {},
   "source": [
    "### Torch"
   ]
  },
  {
   "cell_type": "code",
   "execution_count": 4,
   "id": "10db24cb",
   "metadata": {
    "ExecuteTime": {
     "end_time": "2021-09-13T11:22:04.744552Z",
     "start_time": "2021-09-13T11:22:04.741700Z"
    }
   },
   "outputs": [],
   "source": [
    "def centralize_torch(z):\n",
    "    return z - torch.repeat_interleave(torch.reshape(torch.mean(z, axis=1), (-1,1,EMBEDDING_SIZE)), NB_BINS, dim=1)"
   ]
  },
  {
   "cell_type": "code",
   "execution_count": 5,
   "id": "2056afa9",
   "metadata": {
    "ExecuteTime": {
     "end_time": "2021-09-13T11:22:04.751057Z",
     "start_time": "2021-09-13T11:22:04.747027Z"
    }
   },
   "outputs": [],
   "source": [
    "def normalize_torch(z):\n",
    "    \n",
    "    norms = LAtorch.norm(z, 2, dim=2)\n",
    "    max_norms, _ = torch.max(norms, axis=1)\n",
    "    max_norms = torch.reshape(max_norms, (BATCH_SIZE,1,1))\n",
    "    max_norms = torch.repeat_interleave(max_norms, NB_BINS, dim=1)\n",
    "    max_norms = torch.repeat_interleave(max_norms, EMBEDDING_SIZE, dim=2)\n",
    "    max_norms[max_norms == 0] = 1\n",
    "    \n",
    "    return z / max_norms"
   ]
  },
  {
   "cell_type": "code",
   "execution_count": 6,
   "id": "ba06874f",
   "metadata": {
    "ExecuteTime": {
     "end_time": "2021-09-13T11:22:04.756857Z",
     "start_time": "2021-09-13T11:22:04.753139Z"
    }
   },
   "outputs": [],
   "source": [
    "def centralize_and_normalize_torch(z):\n",
    "    \n",
    "    # Translate\n",
    "    z = centralize_torch(z)\n",
    "    \n",
    "    # Scale\n",
    "    z = normalize_torch(z)\n",
    "    \n",
    "    return z"
   ]
  },
  {
   "cell_type": "markdown",
   "id": "46e764b0",
   "metadata": {},
   "source": [
    "### Numpy"
   ]
  },
  {
   "cell_type": "code",
   "execution_count": 7,
   "id": "30307ac3",
   "metadata": {
    "ExecuteTime": {
     "end_time": "2021-09-13T11:22:04.762763Z",
     "start_time": "2021-09-13T11:22:04.759639Z"
    }
   },
   "outputs": [],
   "source": [
    "def centralize_numpy(z):\n",
    "    return z - np.mean(z, axis=0)"
   ]
  },
  {
   "cell_type": "code",
   "execution_count": 8,
   "id": "6688fb4f",
   "metadata": {
    "ExecuteTime": {
     "end_time": "2021-09-13T11:22:04.771856Z",
     "start_time": "2021-09-13T11:22:04.768719Z"
    }
   },
   "outputs": [],
   "source": [
    "def normalize_numpy(z):\n",
    "    \n",
    "    norm = LAnumpy.norm(z, 2, axis=1)\n",
    "    max_norm = np.max(norm, axis=0)\n",
    "    if max_norm == 0:\n",
    "        max_norm = 1\n",
    "    \n",
    "    return z / max_norm"
   ]
  },
  {
   "cell_type": "code",
   "execution_count": 9,
   "id": "87f22cfe",
   "metadata": {
    "ExecuteTime": {
     "end_time": "2021-09-13T11:22:04.778373Z",
     "start_time": "2021-09-13T11:22:04.775820Z"
    }
   },
   "outputs": [],
   "source": [
    "def centralize_and_normalize_numpy(z):\n",
    "    \n",
    "    # Translate\n",
    "    z = centralize_numpy(z)\n",
    "    \n",
    "    # Scale\n",
    "    z = normalize_numpy(z)\n",
    "    \n",
    "    return z"
   ]
  },
  {
   "cell_type": "code",
   "execution_count": 10,
   "id": "e885c245",
   "metadata": {
    "ExecuteTime": {
     "end_time": "2021-09-13T11:22:04.787698Z",
     "start_time": "2021-09-13T11:22:04.782237Z"
    }
   },
   "outputs": [],
   "source": [
    "def kabsch_superimposition_numpy(pred_structure, true_structure):\n",
    "    \n",
    "    # Centralize and normalize to unit ball\n",
    "    pred_structure_unit_ball = centralize_and_normalize_numpy(pred_structure)\n",
    "    true_structure_unit_ball = centralize_and_normalize_numpy(true_structure)\n",
    "    \n",
    "    # Rotation (solution for the constrained orthogonal Procrustes problem, subject to det(R) = 1)\n",
    "    m = np.matmul(np.transpose(true_structure_unit_ball), pred_structure_unit_ball)\n",
    "    u, s, vh = np.linalg.svd(m)\n",
    "    \n",
    "    d = np.sign(np.linalg.det(np.matmul(u, vh)))\n",
    "    a = np.eye(EMBEDDING_SIZE)\n",
    "    a[-1,-1] = d\n",
    "    \n",
    "    r = np.matmul(np.matmul(u, a), vh)\n",
    "    \n",
    "    pred_structure_unit_ball = np.transpose(np.matmul(r, np.transpose(pred_structure_unit_ball)))\n",
    "    \n",
    "    return pred_structure_unit_ball, true_structure_unit_ball"
   ]
  },
  {
   "cell_type": "code",
   "execution_count": 11,
   "id": "18470850",
   "metadata": {
    "ExecuteTime": {
     "end_time": "2021-09-13T11:22:04.794469Z",
     "start_time": "2021-09-13T11:22:04.790480Z"
    }
   },
   "outputs": [],
   "source": [
    "def kabsch_distance_numpy(pred_structure, true_structure):\n",
    "    \n",
    "    pred_structure_unit_ball, true_structure_unit_ball = kabsch_superimposition_numpy(pred_structure, true_structure)\n",
    "    \n",
    "    # Structure comparison\n",
    "    d = np.mean(np.sum(np.square(pred_structure_unit_ball - true_structure_unit_ball), axis=1))\n",
    "    \n",
    "    return d"
   ]
  },
  {
   "cell_type": "markdown",
   "id": "confused-gnome",
   "metadata": {},
   "source": [
    "# Create dataset"
   ]
  },
  {
   "cell_type": "markdown",
   "id": "d412f446",
   "metadata": {},
   "source": [
    "## Hic matrice"
   ]
  },
  {
   "cell_type": "code",
   "execution_count": 12,
   "id": "naval-commons",
   "metadata": {
    "ExecuteTime": {
     "end_time": "2021-09-13T11:22:04.833771Z",
     "start_time": "2021-09-13T11:22:04.798823Z"
    }
   },
   "outputs": [],
   "source": [
    "trussart_hic = np.loadtxt(TRUSSART_HIC_PATH, dtype='f', delimiter='\\t')\n",
    "scaler = MinMaxScaler()\n",
    "trussart_hic = scaler.fit_transform(trussart_hic)"
   ]
  },
  {
   "cell_type": "markdown",
   "id": "8f0b876b",
   "metadata": {},
   "source": [
    "## Structure matrices"
   ]
  },
  {
   "cell_type": "code",
   "execution_count": 13,
   "id": "43eefd71",
   "metadata": {
    "ExecuteTime": {
     "end_time": "2021-09-13T11:22:05.006296Z",
     "start_time": "2021-09-13T11:22:04.835116Z"
    }
   },
   "outputs": [],
   "source": [
    "trussart_structures = []\n",
    "\n",
    "file_list = os.listdir(TRUSSART_STRUCTURES_PATH)\n",
    "file_list = filter(lambda f: f.endswith('.xyz'), file_list)\n",
    "\n",
    "for file_name in file_list:\n",
    "    current_trussart_structure = np.loadtxt(TRUSSART_STRUCTURES_PATH + file_name, dtype='f', delimiter='\\t')\n",
    "    current_trussart_structure = current_trussart_structure[:,1:]\n",
    "    current_trussart_structure = centralize_and_normalize_numpy(current_trussart_structure)\n",
    "    trussart_structures.append(current_trussart_structure)"
   ]
  },
  {
   "cell_type": "markdown",
   "id": "9385d63c",
   "metadata": {},
   "source": [
    "# Import previous works structures"
   ]
  },
  {
   "cell_type": "markdown",
   "id": "de0e51fc",
   "metadata": {},
   "source": [
    "## REACH-3D"
   ]
  },
  {
   "cell_type": "code",
   "execution_count": 14,
   "id": "225f9097",
   "metadata": {
    "ExecuteTime": {
     "end_time": "2021-09-13T11:22:05.187650Z",
     "start_time": "2021-09-13T11:22:05.007700Z"
    }
   },
   "outputs": [
    {
     "ename": "OSError",
     "evalue": "../../../previous_works/reach3d/reach3d_trussart_output_structure_150.txt not found.",
     "output_type": "error",
     "traceback": [
      "\u001b[0;31m---------------------------------------------------------------------------\u001b[0m",
      "\u001b[0;31mOSError\u001b[0m                                   Traceback (most recent call last)",
      "\u001b[0;32m<ipython-input-14-bfd387ab1432>\u001b[0m in \u001b[0;36m<module>\u001b[0;34m\u001b[0m\n\u001b[0;32m----> 1\u001b[0;31m \u001b[0mreach3d_structure\u001b[0m \u001b[0;34m=\u001b[0m \u001b[0mnp\u001b[0m\u001b[0;34m.\u001b[0m\u001b[0mloadtxt\u001b[0m\u001b[0;34m(\u001b[0m\u001b[0mREACH3D_STRUCTURE_PATH\u001b[0m\u001b[0;34m,\u001b[0m \u001b[0mdtype\u001b[0m\u001b[0;34m=\u001b[0m\u001b[0;34m'f'\u001b[0m\u001b[0;34m,\u001b[0m \u001b[0mdelimiter\u001b[0m\u001b[0;34m=\u001b[0m\u001b[0;34m'\\t'\u001b[0m\u001b[0;34m)\u001b[0m\u001b[0;34m\u001b[0m\u001b[0;34m\u001b[0m\u001b[0m\n\u001b[0m\u001b[1;32m      2\u001b[0m \u001b[0mreach3d_structure\u001b[0m \u001b[0;34m=\u001b[0m \u001b[0mcentralize_and_normalize_numpy\u001b[0m\u001b[0;34m(\u001b[0m\u001b[0mreach3d_structure\u001b[0m\u001b[0;34m)\u001b[0m\u001b[0;34m\u001b[0m\u001b[0;34m\u001b[0m\u001b[0m\n",
      "\u001b[0;32m~/opt/anaconda3/lib/python3.8/site-packages/numpy/lib/npyio.py\u001b[0m in \u001b[0;36mloadtxt\u001b[0;34m(fname, dtype, comments, delimiter, converters, skiprows, usecols, unpack, ndmin, encoding, max_rows, like)\u001b[0m\n\u001b[1;32m   1063\u001b[0m             \u001b[0mfname\u001b[0m \u001b[0;34m=\u001b[0m \u001b[0mos_fspath\u001b[0m\u001b[0;34m(\u001b[0m\u001b[0mfname\u001b[0m\u001b[0;34m)\u001b[0m\u001b[0;34m\u001b[0m\u001b[0;34m\u001b[0m\u001b[0m\n\u001b[1;32m   1064\u001b[0m         \u001b[0;32mif\u001b[0m \u001b[0m_is_string_like\u001b[0m\u001b[0;34m(\u001b[0m\u001b[0mfname\u001b[0m\u001b[0;34m)\u001b[0m\u001b[0;34m:\u001b[0m\u001b[0;34m\u001b[0m\u001b[0;34m\u001b[0m\u001b[0m\n\u001b[0;32m-> 1065\u001b[0;31m             \u001b[0mfh\u001b[0m \u001b[0;34m=\u001b[0m \u001b[0mnp\u001b[0m\u001b[0;34m.\u001b[0m\u001b[0mlib\u001b[0m\u001b[0;34m.\u001b[0m\u001b[0m_datasource\u001b[0m\u001b[0;34m.\u001b[0m\u001b[0mopen\u001b[0m\u001b[0;34m(\u001b[0m\u001b[0mfname\u001b[0m\u001b[0;34m,\u001b[0m \u001b[0;34m'rt'\u001b[0m\u001b[0;34m,\u001b[0m \u001b[0mencoding\u001b[0m\u001b[0;34m=\u001b[0m\u001b[0mencoding\u001b[0m\u001b[0;34m)\u001b[0m\u001b[0;34m\u001b[0m\u001b[0;34m\u001b[0m\u001b[0m\n\u001b[0m\u001b[1;32m   1066\u001b[0m             \u001b[0mfencoding\u001b[0m \u001b[0;34m=\u001b[0m \u001b[0mgetattr\u001b[0m\u001b[0;34m(\u001b[0m\u001b[0mfh\u001b[0m\u001b[0;34m,\u001b[0m \u001b[0;34m'encoding'\u001b[0m\u001b[0;34m,\u001b[0m \u001b[0;34m'latin1'\u001b[0m\u001b[0;34m)\u001b[0m\u001b[0;34m\u001b[0m\u001b[0;34m\u001b[0m\u001b[0m\n\u001b[1;32m   1067\u001b[0m             \u001b[0mfh\u001b[0m \u001b[0;34m=\u001b[0m \u001b[0miter\u001b[0m\u001b[0;34m(\u001b[0m\u001b[0mfh\u001b[0m\u001b[0;34m)\u001b[0m\u001b[0;34m\u001b[0m\u001b[0;34m\u001b[0m\u001b[0m\n",
      "\u001b[0;32m~/opt/anaconda3/lib/python3.8/site-packages/numpy/lib/_datasource.py\u001b[0m in \u001b[0;36mopen\u001b[0;34m(path, mode, destpath, encoding, newline)\u001b[0m\n\u001b[1;32m    192\u001b[0m \u001b[0;34m\u001b[0m\u001b[0m\n\u001b[1;32m    193\u001b[0m     \u001b[0mds\u001b[0m \u001b[0;34m=\u001b[0m \u001b[0mDataSource\u001b[0m\u001b[0;34m(\u001b[0m\u001b[0mdestpath\u001b[0m\u001b[0;34m)\u001b[0m\u001b[0;34m\u001b[0m\u001b[0;34m\u001b[0m\u001b[0m\n\u001b[0;32m--> 194\u001b[0;31m     \u001b[0;32mreturn\u001b[0m \u001b[0mds\u001b[0m\u001b[0;34m.\u001b[0m\u001b[0mopen\u001b[0m\u001b[0;34m(\u001b[0m\u001b[0mpath\u001b[0m\u001b[0;34m,\u001b[0m \u001b[0mmode\u001b[0m\u001b[0;34m,\u001b[0m \u001b[0mencoding\u001b[0m\u001b[0;34m=\u001b[0m\u001b[0mencoding\u001b[0m\u001b[0;34m,\u001b[0m \u001b[0mnewline\u001b[0m\u001b[0;34m=\u001b[0m\u001b[0mnewline\u001b[0m\u001b[0;34m)\u001b[0m\u001b[0;34m\u001b[0m\u001b[0;34m\u001b[0m\u001b[0m\n\u001b[0m\u001b[1;32m    195\u001b[0m \u001b[0;34m\u001b[0m\u001b[0m\n\u001b[1;32m    196\u001b[0m \u001b[0;34m\u001b[0m\u001b[0m\n",
      "\u001b[0;32m~/opt/anaconda3/lib/python3.8/site-packages/numpy/lib/_datasource.py\u001b[0m in \u001b[0;36mopen\u001b[0;34m(self, path, mode, encoding, newline)\u001b[0m\n\u001b[1;32m    529\u001b[0m                                       encoding=encoding, newline=newline)\n\u001b[1;32m    530\u001b[0m         \u001b[0;32melse\u001b[0m\u001b[0;34m:\u001b[0m\u001b[0;34m\u001b[0m\u001b[0;34m\u001b[0m\u001b[0m\n\u001b[0;32m--> 531\u001b[0;31m             \u001b[0;32mraise\u001b[0m \u001b[0mIOError\u001b[0m\u001b[0;34m(\u001b[0m\u001b[0;34m\"%s not found.\"\u001b[0m \u001b[0;34m%\u001b[0m \u001b[0mpath\u001b[0m\u001b[0;34m)\u001b[0m\u001b[0;34m\u001b[0m\u001b[0;34m\u001b[0m\u001b[0m\n\u001b[0m\u001b[1;32m    532\u001b[0m \u001b[0;34m\u001b[0m\u001b[0m\n\u001b[1;32m    533\u001b[0m \u001b[0;34m\u001b[0m\u001b[0m\n",
      "\u001b[0;31mOSError\u001b[0m: ../../../previous_works/reach3d/reach3d_trussart_output_structure_150.txt not found."
     ]
    }
   ],
   "source": [
    "reach3d_structure = np.loadtxt(REACH3D_STRUCTURE_PATH, dtype='f', delimiter='\\t')\n",
    "reach3d_structure = centralize_and_normalize_numpy(reach3d_structure)"
   ]
  },
  {
   "cell_type": "markdown",
   "id": "144e92eb",
   "metadata": {},
   "source": [
    "## MiniMDS"
   ]
  },
  {
   "cell_type": "code",
   "execution_count": null,
   "id": "5f052cbf",
   "metadata": {
    "ExecuteTime": {
     "end_time": "2021-09-13T11:22:05.189492Z",
     "start_time": "2021-09-13T11:22:02.596Z"
    }
   },
   "outputs": [],
   "source": [
    "minimds_structure = np.loadtxt(MINIMDS_STRUCTURE_PATH, dtype='f', delimiter=' ')\n",
    "minimds_structure = centralize_and_normalize_numpy(minimds_structure)"
   ]
  },
  {
   "cell_type": "markdown",
   "id": "660d078f",
   "metadata": {},
   "source": [
    "## GEM"
   ]
  },
  {
   "cell_type": "code",
   "execution_count": null,
   "id": "1c364a56",
   "metadata": {
    "ExecuteTime": {
     "end_time": "2021-09-13T11:22:05.190700Z",
     "start_time": "2021-09-13T11:22:02.598Z"
    }
   },
   "outputs": [],
   "source": [
    "gem_structure = np.loadtxt(GEM_STRUCTURE_PATH, dtype='f', delimiter='\\t')\n",
    "gem_structure = centralize_and_normalize_numpy(gem_structure)"
   ]
  },
  {
   "cell_type": "markdown",
   "id": "2978156a",
   "metadata": {},
   "source": [
    "# Threshold structures"
   ]
  },
  {
   "cell_type": "markdown",
   "id": "19d76e15",
   "metadata": {},
   "source": [
    "## Random prediction threshold"
   ]
  },
  {
   "cell_type": "code",
   "execution_count": null,
   "id": "f2a4cb8a",
   "metadata": {
    "ExecuteTime": {
     "end_time": "2021-09-13T11:22:05.191987Z",
     "start_time": "2021-09-13T11:22:02.601Z"
    }
   },
   "outputs": [],
   "source": [
    "def random_prediction(nb_bins):\n",
    "    \n",
    "    # Random r's\n",
    "    r_s = np.random.uniform(low=0, high=1, size=nb_bins)\n",
    "    \n",
    "    # Random theta's\n",
    "    theta_s = np.random.uniform(low=0, high=np.pi, size=nb_bins)\n",
    "    \n",
    "    # Random phi's\n",
    "    phi_s = np.random.uniform(low=0, high=2*np.pi, size=nb_bins)\n",
    "    \n",
    "    final_structure = []\n",
    "    for i in range(nb_bins):\n",
    "        x = r_s[i] * np.cos(phi_s[i]) * np.sin(theta_s[i])\n",
    "        y = r_s[i] * np.sin(phi_s[i]) * np.sin(theta_s[i])\n",
    "        z = r_s[i] * np.cos(theta_s[i])\n",
    "        final_structure.append([x, y, z])\n",
    "        \n",
    "    return np.asarray(final_structure).reshape((nb_bins, EMBEDDING_SIZE))"
   ]
  },
  {
   "cell_type": "code",
   "execution_count": null,
   "id": "86a92327",
   "metadata": {
    "ExecuteTime": {
     "end_time": "2021-09-13T11:22:05.192892Z",
     "start_time": "2021-09-13T11:22:02.603Z"
    }
   },
   "outputs": [],
   "source": [
    "random_structure = random_prediction(NB_BINS)\n",
    "random_structure = centralize_and_normalize_numpy(random_structure)"
   ]
  },
  {
   "cell_type": "markdown",
   "id": "8f257498",
   "metadata": {},
   "source": [
    "## Prefect prediction threshold"
   ]
  },
  {
   "cell_type": "code",
   "execution_count": null,
   "id": "7dbba8e7",
   "metadata": {
    "ExecuteTime": {
     "end_time": "2021-09-13T11:22:05.193890Z",
     "start_time": "2021-09-13T11:22:02.604Z"
    }
   },
   "outputs": [],
   "source": [
    "perfect_structure = np.mean(trussart_structures, axis=0)\n",
    "perfect_structure = centralize_and_normalize_numpy(perfect_structure)"
   ]
  },
  {
   "cell_type": "markdown",
   "id": "a7a32692",
   "metadata": {},
   "source": [
    "# Final plot"
   ]
  },
  {
   "cell_type": "code",
   "execution_count": null,
   "id": "1abae62e",
   "metadata": {
    "ExecuteTime": {
     "end_time": "2021-09-13T11:22:05.195001Z",
     "start_time": "2021-09-13T11:22:02.606Z"
    }
   },
   "outputs": [],
   "source": [
    "def compute_between_bin_distances(pred_structure):\n",
    "\n",
    "    between_bin_distances = []\n",
    "\n",
    "    for i in range(NB_BINS-1):\n",
    "          between_bin_distances.append(np.sqrt(np.sum((pred_structure[i,:]-pred_structure[i+1,:])**2)))\n",
    "            \n",
    "    return np.asarray(between_bin_distances)"
   ]
  },
  {
   "cell_type": "code",
   "execution_count": null,
   "id": "23e92094",
   "metadata": {
    "ExecuteTime": {
     "end_time": "2021-09-13T11:22:05.196461Z",
     "start_time": "2021-09-13T11:22:02.607Z"
    }
   },
   "outputs": [],
   "source": [
    "def compute_sizes(pred_structure):\n",
    "    \n",
    "    sizes = compute_between_bin_distances(pred_structure)\n",
    "    sizes = np.append(sizes, sizes[-1])\n",
    "    sizes = np.log(1 / sizes) * 5\n",
    "    \n",
    "    return sizes"
   ]
  },
  {
   "cell_type": "code",
   "execution_count": null,
   "id": "f491515a",
   "metadata": {
    "ExecuteTime": {
     "end_time": "2021-09-13T11:22:05.197575Z",
     "start_time": "2021-09-13T11:22:02.608Z"
    }
   },
   "outputs": [],
   "source": [
    "# structure_1, structure_2 = procrustes_superimposition_numpy(reach3d_structure, perfect_structure)\n",
    "structure_1 = perfect_structure\n",
    "structure_2, _ = kabsch_superimposition_numpy(minimds_structure, perfect_structure)\n",
    "structure_3, _ = kabsch_superimposition_numpy(reach3d_structure, perfect_structure)"
   ]
  },
  {
   "cell_type": "code",
   "execution_count": null,
   "id": "d96411ad",
   "metadata": {
    "ExecuteTime": {
     "end_time": "2021-09-13T11:22:05.199158Z",
     "start_time": "2021-09-13T11:22:02.608Z"
    }
   },
   "outputs": [],
   "source": [
    "display_structure = structure_3"
   ]
  },
  {
   "cell_type": "code",
   "execution_count": null,
   "id": "fd86b9db",
   "metadata": {
    "ExecuteTime": {
     "end_time": "2021-09-13T11:22:05.200540Z",
     "start_time": "2021-09-13T11:22:02.610Z"
    }
   },
   "outputs": [],
   "source": [
    "# Initialize figure with 3D subplots\n",
    "fig = make_subplots(\n",
    "    rows=1, cols=1,\n",
    "    specs=[[{'type': 'scatter3d'}]])\n",
    "\n",
    "# adding surfaces to subplots.\n",
    "fig.add_trace(\n",
    "    go.Scatter3d(\n",
    "    x=display_structure[:,0], y=display_structure[:,1], z=display_structure[:,2], opacity=0.7,\n",
    "    marker=dict(\n",
    "        size=6, #compute_sizes(structure_2),\n",
    "        color=np.asarray(range(len(structure_2[:,0]))),\n",
    "        colorscale='Viridis',\n",
    "        line=dict(width=3)\n",
    "    ),\n",
    "    line=dict(\n",
    "        color='darkblue',\n",
    "        width=2\n",
    "    )\n",
    "), row=1, col=1)\n",
    "\n",
    "fig.update_layout(\n",
    "    height=1000,\n",
    "    width=1000\n",
    ")\n",
    "\n",
    "fig.show()"
   ]
  },
  {
   "cell_type": "code",
   "execution_count": null,
   "id": "11208190",
   "metadata": {
    "ExecuteTime": {
     "end_time": "2021-09-13T11:22:05.202071Z",
     "start_time": "2021-09-13T11:22:02.612Z"
    }
   },
   "outputs": [],
   "source": [
    "# Initialize figure with 3D subplots\n",
    "fig = make_subplots(\n",
    "    rows=1, cols=3,\n",
    "    specs=[[{'type': 'scatter3d'}, {'type': 'scatter3d'}, {'type': 'scatter3d'}]])\n",
    "\n",
    "# adding surfaces to subplots.\n",
    "fig.add_trace(\n",
    "    go.Scatter3d(\n",
    "    x=structure_1[:,0], y=structure_1[:,1], z=structure_1[:,2], opacity=0.4,\n",
    "    marker=dict(\n",
    "        size=5, #compute_sizes(structure_1),\n",
    "        color=np.asarray(range(len(structure_1[:,0]))),\n",
    "        colorscale='Viridis',\n",
    "        line=dict(width=3)\n",
    "    ),\n",
    "    line=dict(\n",
    "        color='darkblue',\n",
    "        width=2\n",
    "    )\n",
    "), row=1, col=1)\n",
    "\n",
    "fig.add_trace(\n",
    "    go.Scatter3d(\n",
    "    x=structure_2[:,0], y=structure_2[:,1], z=structure_2[:,2], opacity=0.4,\n",
    "    marker=dict(\n",
    "        size=5, #compute_sizes(structure_2),\n",
    "        color=np.asarray(range(len(structure_2[:,0]))),\n",
    "        colorscale='Viridis',\n",
    "        line=dict(width=3)\n",
    "    ),\n",
    "    line=dict(\n",
    "        color='darkblue',\n",
    "        width=2\n",
    "    )\n",
    "), row=1, col=2)\n",
    "\n",
    "fig.add_trace(\n",
    "    go.Scatter3d(\n",
    "    x=structure_3[:,0], y=structure_3[:,1], z=structure_3[:,2], opacity=0.4,\n",
    "    marker=dict(\n",
    "        size=5, #compute_sizes(structure_3),\n",
    "        color=np.asarray(range(len(structure_3[:,0]))),\n",
    "        colorscale='Viridis',\n",
    "        line=dict(width=3)\n",
    "    ),\n",
    "    line=dict(\n",
    "        color='darkblue',\n",
    "        width=2\n",
    "    )\n",
    "), row=1, col=3)\n",
    "\n",
    "fig.update_layout(\n",
    "    height=1000,\n",
    "    width=1000\n",
    ")\n",
    "\n",
    "fig.show()"
   ]
  }
 ],
 "metadata": {
  "kernelspec": {
   "display_name": "Python 3",
   "language": "python",
   "name": "python3"
  },
  "language_info": {
   "codemirror_mode": {
    "name": "ipython",
    "version": 3
   },
   "file_extension": ".py",
   "mimetype": "text/x-python",
   "name": "python",
   "nbconvert_exporter": "python",
   "pygments_lexer": "ipython3",
   "version": "3.8.8"
  }
 },
 "nbformat": 4,
 "nbformat_minor": 5
}
