{
 "cells": [
  {
   "cell_type": "code",
   "execution_count": 1,
   "id": "educated-boxing",
   "metadata": {
    "ExecuteTime": {
     "end_time": "2021-08-04T16:21:31.650768Z",
     "start_time": "2021-08-04T16:21:31.216326Z"
    }
   },
   "outputs": [],
   "source": [
    "# File processing\n",
    "import sys\n",
    "\n",
    "# Data processing\n",
    "import numpy as np\n",
    "from numpy import linalg as LAnumpy\n",
    "\n",
    "# Data display \n",
    "import matplotlib\n",
    "import matplotlib.pyplot as plt\n",
    "import plotly.graph_objects as go\n",
    "from plotly.subplots import make_subplots\n",
    "from matplotlib.legend_handler import HandlerLine2D"
   ]
  },
  {
   "cell_type": "markdown",
   "id": "d06a93bb",
   "metadata": {},
   "source": [
    "# Constants"
   ]
  },
  {
   "cell_type": "code",
   "execution_count": 2,
   "id": "1630ad31",
   "metadata": {
    "ExecuteTime": {
     "end_time": "2021-08-04T16:21:31.655296Z",
     "start_time": "2021-08-04T16:21:31.652862Z"
    }
   },
   "outputs": [],
   "source": [
    "CHROMOSOME_NUMBER = 14\n",
    "CHROMOSOME_NUMBER = str(CHROMOSOME_NUMBER)"
   ]
  },
  {
   "cell_type": "markdown",
   "id": "95a38c86",
   "metadata": {},
   "source": [
    "# Tool functions"
   ]
  },
  {
   "cell_type": "code",
   "execution_count": 3,
   "id": "30307ac3",
   "metadata": {
    "ExecuteTime": {
     "end_time": "2021-08-04T16:21:31.661108Z",
     "start_time": "2021-08-04T16:21:31.658528Z"
    }
   },
   "outputs": [],
   "source": [
    "def centralize_numpy(z):\n",
    "    return z - np.mean(z, axis=0)"
   ]
  },
  {
   "cell_type": "code",
   "execution_count": 4,
   "id": "6688fb4f",
   "metadata": {
    "ExecuteTime": {
     "end_time": "2021-08-04T16:21:31.666642Z",
     "start_time": "2021-08-04T16:21:31.663214Z"
    }
   },
   "outputs": [],
   "source": [
    "def normalize_numpy(z):\n",
    "    \n",
    "    norm = LAnumpy.norm(z, 2, axis=1)\n",
    "    max_norm = np.max(norm, axis=0)\n",
    "    if max_norm == 0:\n",
    "        max_norm = 1\n",
    "    \n",
    "    return z / max_norm"
   ]
  },
  {
   "cell_type": "code",
   "execution_count": 5,
   "id": "87f22cfe",
   "metadata": {
    "ExecuteTime": {
     "end_time": "2021-08-04T16:21:31.671434Z",
     "start_time": "2021-08-04T16:21:31.668586Z"
    }
   },
   "outputs": [],
   "source": [
    "def centralize_and_normalize_numpy(z):\n",
    "    \n",
    "    # Translate\n",
    "    z = centralize_numpy(z)\n",
    "    \n",
    "    # Scale\n",
    "    z = normalize_numpy(z)\n",
    "    \n",
    "    return z"
   ]
  },
  {
   "cell_type": "code",
   "execution_count": 6,
   "id": "74c36c9b",
   "metadata": {
    "ExecuteTime": {
     "end_time": "2021-08-04T16:21:31.678296Z",
     "start_time": "2021-08-04T16:21:31.673441Z"
    }
   },
   "outputs": [],
   "source": [
    "def extract_structure_from_pdb_file(file_name):\n",
    "    \n",
    "    structure = []\n",
    "    f=open(file_name,'r')\n",
    "    while 1:\n",
    "        line=f.readline()\n",
    "        coordinates = line[30:55].strip().split('.')\n",
    "        \n",
    "        if not line or not len(coordinates) > 3: \n",
    "            break\n",
    "                    \n",
    "        x = coordinates[0] + '.' + coordinates[1][:3]\n",
    "        y = coordinates[1][3:] + '.' + coordinates[2][:3]\n",
    "        z = coordinates[2][3:] + '.' + coordinates[3]\n",
    "            \n",
    "        x=float(x)\n",
    "        y=float(y)\n",
    "        z=float(z)\n",
    "            \n",
    "        structure.append([x, y, z])\n",
    "    f.close\n",
    "    \n",
    "    return np.asarray(structure)"
   ]
  },
  {
   "cell_type": "markdown",
   "id": "bb61e247",
   "metadata": {},
   "source": [
    "# Import structures"
   ]
  },
  {
   "cell_type": "code",
   "execution_count": 36,
   "id": "7ad49b06",
   "metadata": {
    "ExecuteTime": {
     "end_time": "2021-08-04T16:45:45.451223Z",
     "start_time": "2021-08-04T16:45:45.425600Z"
    }
   },
   "outputs": [],
   "source": [
    "dmax_structure = \\\n",
    "    extract_structure_from_pdb_file('GM12878_3DStructures/KR_100kb/3DMax/chr' + CHROMOSOME_NUMBER + '.pdb')\n",
    "# chromosome3d_structure = \\\n",
    "#     extract_structure_from_pdb_file('GM12878_3DStructures/KR_100kb/Chromosome3D/chr' + CHROMOSOME_NUMBER + '.pdb')\n",
    "# chromsde_structure = \\\n",
    "#     extract_structure_from_pdb_file('GM12878_3DStructures/KR_100kb/ChromSDE/chr' + CHROMOSOME_NUMBER + '.pdb')\n",
    "# gem_structure = \\\n",
    "#     extract_structure_from_pdb_file('GM12878_3DStructures/KR_100kb/GEM/chr' + CHROMOSOME_NUMBER + '.pdb')\n",
    "hsa_structure = \\\n",
    "    extract_structure_from_pdb_file('GM12878_3DStructures/KR_100kb/HSA/chr' + CHROMOSOME_NUMBER + '.pdb')\n",
    "infmod3dgen_structure = \\\n",
    "    extract_structure_from_pdb_file('GM12878_3DStructures/KR_100kb/InfMod3DGen/chr' + CHROMOSOME_NUMBER + '.pdb')\n",
    "lordg_structure = \\\n",
    "    extract_structure_from_pdb_file('GM12878_3DStructures/KR_100kb/LorDG/chr' + CHROMOSOME_NUMBER + '.pdb')\n",
    "minimds_structure = \\\n",
    "    extract_structure_from_pdb_file('GM12878_3DStructures/KR_100kb/miniMDS/chr' + CHROMOSOME_NUMBER + '.pdb')\n",
    "mogen_structure = \\\n",
    "    extract_structure_from_pdb_file('GM12878_3DStructures/KR_100kb/MOGEN/chr' + CHROMOSOME_NUMBER + '.pdb')\n",
    "# pastis_structure = \\\n",
    "#     extract_structure_from_pdb_file('GM12878_3DStructures/KR_100kb/Pastis/chr' + CHROMOSOME_NUMBER + '.pdb')\n",
    "shrec3d_structure = \\\n",
    "    extract_structure_from_pdb_file('GM12878_3DStructures/KR_100kb/ShRec3D/chr' + CHROMOSOME_NUMBER + '.pdb')\n",
    "simba3d_structure = \\\n",
    "    extract_structure_from_pdb_file('GM12878_3DStructures/KR_100kb/SIMBA3D/chr' + CHROMOSOME_NUMBER + '.pdb')"
   ]
  },
  {
   "cell_type": "code",
   "execution_count": 8,
   "id": "2b111359",
   "metadata": {
    "ExecuteTime": {
     "end_time": "2021-08-04T16:21:31.790774Z",
     "start_time": "2021-08-04T16:21:31.700333Z"
    }
   },
   "outputs": [
    {
     "ename": "NameError",
     "evalue": "name 'dmax_structure' is not defined",
     "output_type": "error",
     "traceback": [
      "\u001b[0;31m---------------------------------------------------------------------------\u001b[0m",
      "\u001b[0;31mNameError\u001b[0m                                 Traceback (most recent call last)",
      "\u001b[0;32m<ipython-input-8-d6bf19763d57>\u001b[0m in \u001b[0;36m<module>\u001b[0;34m\u001b[0m\n\u001b[0;32m----> 1\u001b[0;31m \u001b[0mdmax_structure\u001b[0m \u001b[0;34m=\u001b[0m \u001b[0mcentralize_and_normalize_numpy\u001b[0m\u001b[0;34m(\u001b[0m\u001b[0mdmax_structure\u001b[0m\u001b[0;34m)\u001b[0m\u001b[0;34m\u001b[0m\u001b[0;34m\u001b[0m\u001b[0m\n\u001b[0m\u001b[1;32m      2\u001b[0m \u001b[0mchromosome3d_structure\u001b[0m \u001b[0;34m=\u001b[0m \u001b[0mcentralize_and_normalize_numpy\u001b[0m\u001b[0;34m(\u001b[0m\u001b[0mchromosome3d_structure\u001b[0m\u001b[0;34m)\u001b[0m\u001b[0;34m\u001b[0m\u001b[0;34m\u001b[0m\u001b[0m\n\u001b[1;32m      3\u001b[0m \u001b[0mchromsde_structure\u001b[0m \u001b[0;34m=\u001b[0m \u001b[0mcentralize_and_normalize_numpy\u001b[0m\u001b[0;34m(\u001b[0m\u001b[0mchromsde_structure\u001b[0m\u001b[0;34m)\u001b[0m\u001b[0;34m\u001b[0m\u001b[0;34m\u001b[0m\u001b[0m\n\u001b[1;32m      4\u001b[0m \u001b[0;34m\u001b[0m\u001b[0m\n\u001b[1;32m      5\u001b[0m \u001b[0mgem_structure\u001b[0m \u001b[0;34m=\u001b[0m \u001b[0mcentralize_and_normalize_numpy\u001b[0m\u001b[0;34m(\u001b[0m\u001b[0mgem_structure\u001b[0m\u001b[0;34m)\u001b[0m\u001b[0;34m\u001b[0m\u001b[0;34m\u001b[0m\u001b[0m\n",
      "\u001b[0;31mNameError\u001b[0m: name 'dmax_structure' is not defined"
     ]
    }
   ],
   "source": [
    "dmax_structure = centralize_and_normalize_numpy(dmax_structure)\n",
    "chromosome3d_structure = centralize_and_normalize_numpy(chromosome3d_structure)\n",
    "chromsde_structure = centralize_and_normalize_numpy(chromsde_structure)\n",
    "\n",
    "gem_structure = centralize_and_normalize_numpy(gem_structure)\n",
    "hsa_structure = centralize_and_normalize_numpy(hsa_structure)\n",
    "infmod3dgen_structure = centralize_and_normalize_numpy(infmod3dgen_structure)\n",
    "\n",
    "lordg_structure = centralize_and_normalize_numpy(lordg_structure)\n",
    "minimds_structure = centralize_and_normalize_numpy(minimds_structure)\n",
    "mogen_structure = centralize_and_normalize_numpy(mogen_structure)\n",
    "\n",
    "pastis_structure = centralize_and_normalize_numpy(pastis_structure)\n",
    "shrec3d_structure = centralize_and_normalize_numpy(shrec3d_structure)\n",
    "simba3d_structure = centralize_and_normalize_numpy(simba3d_structure)"
   ]
  },
  {
   "cell_type": "code",
   "execution_count": null,
   "id": "65467bc4",
   "metadata": {
    "ExecuteTime": {
     "end_time": "2021-08-04T16:21:31.792597Z",
     "start_time": "2021-08-04T16:21:31.223Z"
    }
   },
   "outputs": [],
   "source": [
    "structures = [dmax_structure, chromosome3d_structure, chromsde_structure, \n",
    "             gem_structure, hsa_structure, infmod3dgen_structure, lordg_structure,\n",
    "             minimds_structure, mogen_structure, pastis_structure, shrec3d_structure, simba3d_structure]"
   ]
  },
  {
   "cell_type": "markdown",
   "id": "c908808c",
   "metadata": {},
   "source": [
    "# Visualization"
   ]
  },
  {
   "cell_type": "code",
   "execution_count": null,
   "id": "ba7f25ff",
   "metadata": {
    "ExecuteTime": {
     "end_time": "2021-08-04T16:21:31.793603Z",
     "start_time": "2021-08-04T16:21:31.224Z"
    }
   },
   "outputs": [],
   "source": [
    "test_structure = simba3d_structure"
   ]
  },
  {
   "cell_type": "code",
   "execution_count": null,
   "id": "2514ddbf",
   "metadata": {
    "ExecuteTime": {
     "end_time": "2021-08-04T16:21:31.794481Z",
     "start_time": "2021-08-04T16:21:31.225Z"
    }
   },
   "outputs": [],
   "source": [
    "# Initialize figure with 4 3D subplots\n",
    "fig = make_subplots(\n",
    "    rows=1, cols=1,\n",
    "    specs=[[{'type': 'scatter3d'}]])\n",
    "\n",
    "# adding surfaces to subplots.\n",
    "fig.add_trace(\n",
    "    go.Scatter3d(\n",
    "    x=test_structure[:,0], y=test_structure[:,1], z=test_structure[:,2],\n",
    "    marker=dict(\n",
    "        size=4,\n",
    "        color=np.asarray(range(len(test_structure[:,0]))),\n",
    "        colorscale='Viridis',\n",
    "    ),\n",
    "    line=dict(\n",
    "        color='darkblue',\n",
    "        width=2\n",
    "    )\n",
    "),row=1, col=1)\n",
    "\n",
    "fig.update_layout(\n",
    "    height=1000,\n",
    "    width=1000\n",
    ")\n",
    "\n",
    "fig.show()"
   ]
  }
 ],
 "metadata": {
  "kernelspec": {
   "display_name": "Python 3",
   "language": "python",
   "name": "python3"
  },
  "language_info": {
   "codemirror_mode": {
    "name": "ipython",
    "version": 3
   },
   "file_extension": ".py",
   "mimetype": "text/x-python",
   "name": "python",
   "nbconvert_exporter": "python",
   "pygments_lexer": "ipython3",
   "version": "3.8.8"
  }
 },
 "nbformat": 4,
 "nbformat_minor": 5
}
