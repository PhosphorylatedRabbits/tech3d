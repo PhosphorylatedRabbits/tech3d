{
 "cells": [
  {
   "cell_type": "code",
   "execution_count": 1,
   "id": "chemical-measure",
   "metadata": {
    "ExecuteTime": {
     "end_time": "2021-09-13T07:44:01.891462Z",
     "start_time": "2021-09-13T07:44:00.258258Z"
    }
   },
   "outputs": [],
   "source": [
    "# Data processing\n",
    "from tqdm import tqdm\n",
    "import numpy as np\n",
    "import pandas as pd\n",
    "import random\n",
    "\n",
    "# Hic, Distance and Structure creation\n",
    "from numpy import linalg as LAnumpy\n",
    "from sklearn.preprocessing import MinMaxScaler\n",
    "from scipy.spatial import distance_matrix"
   ]
  },
  {
   "cell_type": "markdown",
   "id": "7632be69",
   "metadata": {},
   "source": [
    "# Constants"
   ]
  },
  {
   "cell_type": "code",
   "execution_count": 2,
   "id": "6011762a",
   "metadata": {
    "ExecuteTime": {
     "end_time": "2021-09-13T07:44:01.896137Z",
     "start_time": "2021-09-13T07:44:01.893158Z"
    }
   },
   "outputs": [],
   "source": [
    "NB_BINS = 1258\n",
    "NB_STRUCTURES_TRAINING = 400\n",
    "NB_STRUCTURES_TESTING = 100\n",
    "EXPONENT = 1\n",
    "DIGITS_FORMAT = '{0:0=4d}'\n",
    "SEED = 0"
   ]
  },
  {
   "cell_type": "markdown",
   "id": "412342a7",
   "metadata": {},
   "source": [
    "# Seeds"
   ]
  },
  {
   "cell_type": "code",
   "execution_count": 3,
   "id": "75d76e2a",
   "metadata": {
    "ExecuteTime": {
     "end_time": "2021-09-13T07:44:01.901529Z",
     "start_time": "2021-09-13T07:44:01.899258Z"
    }
   },
   "outputs": [],
   "source": [
    "random.seed(SEED)\n",
    "np.random.seed(SEED)"
   ]
  },
  {
   "cell_type": "markdown",
   "id": "682921d8",
   "metadata": {},
   "source": [
    "# Tool functions"
   ]
  },
  {
   "cell_type": "code",
   "execution_count": 4,
   "id": "endless-harvest",
   "metadata": {
    "ExecuteTime": {
     "end_time": "2021-09-13T07:44:01.907540Z",
     "start_time": "2021-09-13T07:44:01.903913Z"
    }
   },
   "outputs": [],
   "source": [
    "def random_walk_function(nb_bins):\n",
    "    \n",
    "    # Define parameters for the walk\n",
    "    dims = 3\n",
    "    step_n = nb_bins - 1\n",
    "    step_set = [-1, 0, 1]\n",
    "    origin = np.zeros((1,dims))\n",
    "    # Simulate steps in 3D\n",
    "    step_shape = (step_n,dims)\n",
    "    steps = np.random.choice(a=step_set, size=step_shape)\n",
    "    path = np.concatenate([origin, steps]).cumsum(0)\n",
    "    start = path[:1]\n",
    "    stop = path[-1:]\n",
    "    \n",
    "    return start, stop, path"
   ]
  },
  {
   "cell_type": "code",
   "execution_count": 5,
   "id": "sunset-nelson",
   "metadata": {
    "ExecuteTime": {
     "end_time": "2021-09-13T07:44:01.912072Z",
     "start_time": "2021-09-13T07:44:01.909226Z"
    }
   },
   "outputs": [],
   "source": [
    "def compute_hic_matrix(distance_matrix, alpha):\n",
    "    \n",
    "    distance_matrix = np.where(distance_matrix == 0, np.inf, distance_matrix)\n",
    "    \n",
    "    hic_matrix = np.zeros((len(distance_matrix), len(distance_matrix)))\n",
    "    hic_matrix = np.where(distance_matrix == np.inf, hic_matrix, np.power(distance_matrix, -alpha))\n",
    "    \n",
    "    return hic_matrix"
   ]
  },
  {
   "cell_type": "code",
   "execution_count": 6,
   "id": "7987d137",
   "metadata": {
    "ExecuteTime": {
     "end_time": "2021-09-13T07:44:01.916933Z",
     "start_time": "2021-09-13T07:44:01.913959Z"
    }
   },
   "outputs": [],
   "source": [
    "def normalize_numpy(z):\n",
    "    \n",
    "    norm = LAnumpy.norm(z, 2, axis=1)\n",
    "    max_norm = np.max(norm, axis=0)\n",
    "    if max_norm == 0:\n",
    "        max_norm = 1\n",
    "    \n",
    "    return z / max_norm"
   ]
  },
  {
   "cell_type": "code",
   "execution_count": 7,
   "id": "efb64597",
   "metadata": {
    "ExecuteTime": {
     "end_time": "2021-09-13T07:44:01.921907Z",
     "start_time": "2021-09-13T07:44:01.919080Z"
    }
   },
   "outputs": [],
   "source": [
    "def centralize_numpy(z):\n",
    "    return z - np.mean(z, axis=0)"
   ]
  },
  {
   "cell_type": "code",
   "execution_count": 8,
   "id": "b44d0857",
   "metadata": {
    "ExecuteTime": {
     "end_time": "2021-09-13T07:44:01.928106Z",
     "start_time": "2021-09-13T07:44:01.925751Z"
    }
   },
   "outputs": [],
   "source": [
    "def centralize_and_normalize_numpy(z):\n",
    "    \n",
    "    # Translate\n",
    "    z = centralize_numpy(z)\n",
    "    \n",
    "    # Scale\n",
    "    z = normalize_numpy(z)\n",
    "    \n",
    "    return z"
   ]
  },
  {
   "cell_type": "markdown",
   "id": "undefined-ranking",
   "metadata": {},
   "source": [
    "# Ensemble of random walks"
   ]
  },
  {
   "cell_type": "code",
   "execution_count": 9,
   "id": "4aacc5dd",
   "metadata": {
    "ExecuteTime": {
     "end_time": "2021-09-13T07:44:01.940123Z",
     "start_time": "2021-09-13T07:44:01.930073Z"
    }
   },
   "outputs": [],
   "source": [
    "def synthetic_random_data_generator(is_training=True):\n",
    "    \n",
    "    if is_training:\n",
    "        nb_structures = NB_STRUCTURES_TRAINING\n",
    "        file_name = 'train'\n",
    "    else:\n",
    "        nb_structures = NB_STRUCTURES_TESTING\n",
    "        file_name = 'test'\n",
    "        \n",
    "    # Create Dataset (iterate with step 2 because of data augmentation)\n",
    "    for i in tqdm(range(0, nb_structures, 2)):\n",
    "\n",
    "        # Set the seeds\n",
    "        random.seed(i*3 + 500)\n",
    "        np.random.seed(i*1201 + 8302)\n",
    "\n",
    "        start, stop, path = random_walk_function(NB_BINS)\n",
    "        path = centralize_and_normalize_numpy(path)\n",
    "        # Data augmentation\n",
    "        path_inverted = np.flip(path, 0)\n",
    "\n",
    "        # Structure matrix to file\n",
    "        df = pd.DataFrame(data=path.astype(float))\n",
    "        df.to_csv('../data/synthetic_random_fission_yeast/' + file_name + '/structure_matrices/synthetic_random_structure_'\\\n",
    "                  + DIGITS_FORMAT.format(i) + '.txt', sep=' ', header=False, index=False)\n",
    "        df = pd.DataFrame(data=path_inverted.astype(float))\n",
    "        df.to_csv('../data/synthetic_random_fission_yeast/' + file_name + '/structure_matrices/synthetic_random_structure_'\\\n",
    "                  + DIGITS_FORMAT.format(i+1) + '.txt', sep=' ', header=False, index=False)  \n",
    "\n",
    "        # Compute distance matrix\n",
    "        precomputed_distances = distance_matrix(path, path)\n",
    "        # Data augmentation\n",
    "        reverted_precomputed_distances = np.rot90(precomputed_distances, k=2, axes=(0,1))\n",
    "\n",
    "        # Distance matrix to file\n",
    "        df = pd.DataFrame(data=precomputed_distances.astype(float))\n",
    "        df.to_csv('../data/synthetic_random_fission_yeast/' + file_name + '/distance_matrices/synthetic_random_distance_'\\\n",
    "                  + DIGITS_FORMAT.format(i) + '.txt', sep=' ', header=False, index=False)\n",
    "        df = pd.DataFrame(data=reverted_precomputed_distances.astype(float))\n",
    "        df.to_csv('../data/synthetic_random_fission_yeast/' + file_name + '/distance_matrices/synthetic_random_distance_'\\\n",
    "                  + DIGITS_FORMAT.format(i+1) + '.txt', sep=' ', header=False, index=False)  \n",
    "\n",
    "        # Compute HiC matrix\n",
    "        hic_matrix = compute_hic_matrix(precomputed_distances, EXPONENT) \n",
    "        # Min Max scaling\n",
    "        scaler = MinMaxScaler()\n",
    "        hic_matrix = scaler.fit_transform(hic_matrix)\n",
    "        # Data augmentation\n",
    "        reverted_hic_matrix = np.rot90(hic_matrix, k=2, axes=(0,1))\n",
    "\n",
    "        # HiC matrix to file\n",
    "        df = pd.DataFrame(data=hic_matrix.astype(float))\n",
    "        df.to_csv('../data/synthetic_random_fission_yeast/' + file_name + '/hic_matrices/synthetic_random_hic_' + \\\n",
    "                  DIGITS_FORMAT.format(i) + '.txt', sep=' ', header=False, index=False)\n",
    "\n",
    "        df = pd.DataFrame(data=reverted_hic_matrix.astype(float))\n",
    "        df.to_csv('../data/synthetic_random_fission_yeast/' + file_name + '/hic_matrices/synthetic_random_hic_' + \\\n",
    "                  DIGITS_FORMAT.format(i+1) + '.txt', sep=' ', header=False, index=False)"
   ]
  },
  {
   "cell_type": "markdown",
   "id": "d46914b3",
   "metadata": {},
   "source": [
    "### Training"
   ]
  },
  {
   "cell_type": "code",
   "execution_count": 11,
   "id": "276c6549",
   "metadata": {
    "ExecuteTime": {
     "end_time": "2021-09-13T07:45:12.342098Z",
     "start_time": "2021-09-13T07:45:12.339591Z"
    }
   },
   "outputs": [],
   "source": [
    "synthetic_random_data_generator()"
   ]
  },
  {
   "cell_type": "markdown",
   "id": "a77ef5d2",
   "metadata": {},
   "source": [
    "### Testing"
   ]
  },
  {
   "cell_type": "code",
   "execution_count": null,
   "id": "ab07d4a5",
   "metadata": {
    "ExecuteTime": {
     "end_time": "2021-09-13T07:45:09.437311Z",
     "start_time": "2021-09-13T07:44:00.274Z"
    }
   },
   "outputs": [],
   "source": [
    "synthetic_random_data_generator(is_training=False)"
   ]
  }
 ],
 "metadata": {
  "kernelspec": {
   "display_name": "Python 3",
   "language": "python",
   "name": "python3"
  },
  "language_info": {
   "codemirror_mode": {
    "name": "ipython",
    "version": 3
   },
   "file_extension": ".py",
   "mimetype": "text/x-python",
   "name": "python",
   "nbconvert_exporter": "python",
   "pygments_lexer": "ipython3",
   "version": "3.8.8"
  }
 },
 "nbformat": 4,
 "nbformat_minor": 5
}
